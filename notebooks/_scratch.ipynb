{
 "cells": [
  {
   "attachments": {},
   "cell_type": "markdown",
   "metadata": {},
   "source": [
    "# **\\_scratch**\n",
    "\n",
    "---\n"
   ]
  },
  {
   "attachments": {},
   "cell_type": "markdown",
   "metadata": {},
   "source": [
    "## **Objectives**"
   ]
  },
  {
   "attachments": {},
   "cell_type": "markdown",
   "metadata": {},
   "source": [
    "Description of dataset and/or problem\n"
   ]
  },
  {
   "attachments": {},
   "cell_type": "markdown",
   "metadata": {},
   "source": [
    "## **Env Setup**"
   ]
  },
  {
   "attachments": {},
   "cell_type": "markdown",
   "metadata": {},
   "source": [
    "### **Imports + Config Setup**"
   ]
  },
  {
   "cell_type": "code",
   "execution_count": 1,
   "metadata": {},
   "outputs": [],
   "source": [
    "# imports\n",
    "import numpy as np\n",
    "import pandas as pd\n",
    "import plotly.express as px\n",
    "# env variables\n",
    "import dotenv\n",
    "dotenv.load_dotenv()\n",
    "df = pd.DataFrame() # creating empty dataframe variable\n",
    "params = {} # creating empty parameters dictionary\n",
    "# Magics env settings...\n",
    "%matplotlib inline"
   ]
  },
  {
   "cell_type": "code",
   "execution_count": 2,
   "metadata": {},
   "outputs": [],
   "source": [
    "def jupyter_notifier_enanble():\n",
    "    '''\n",
    "    The setup function sets up notifications for the jupyter_helpers library by defining a WindowsIntegration class \n",
    "    that uses the win10toast library to display notifications, and instantiating the Notifications class with the \n",
    "    WindowsIntegration class as the integration. The time_threshold parameter is also set to 60 seconds, meaning that \n",
    "    notifications will only be shown if the time since the last notification is greater than 60 seconds.\n",
    "    '''\n",
    "    from IPython.display import Audio\n",
    "    from jupyter_helpers.desktop_integration import DesktopIntegration\n",
    "    class WindowsIntegration(DesktopIntegration):\n",
    "        def notify(self, title, text, notify_id=None, show_again=True, urgency='normal'):\n",
    "            from win10toast import ToastNotifier\n",
    "            toaster = ToastNotifier()\n",
    "            toaster.show_toast(title, text)\n",
    "        def notify_close(self, notify_id):\n",
    "            pass\n",
    "    from jupyter_helpers.notifications import Notifications\n",
    "    Notifications(\n",
    "        time_threshold=60,  # threshold for notification in seconds\n",
    "        integration=WindowsIntegration\n",
    "    )\n",
    "\n",
    "jupyter_notifier_enanble()"
   ]
  },
  {
   "attachments": {},
   "cell_type": "markdown",
   "metadata": {},
   "source": [
    "## **Inputs**"
   ]
  },
  {
   "attachments": {},
   "cell_type": "markdown",
   "metadata": {},
   "source": [
    "### **Parameter inputs**"
   ]
  },
  {
   "cell_type": "code",
   "execution_count": null,
   "metadata": {},
   "outputs": [],
   "source": [
    "input_file_name = ''"
   ]
  },
  {
   "attachments": {},
   "cell_type": "markdown",
   "metadata": {},
   "source": [
    "### **Data ingestion**"
   ]
  },
  {
   "cell_type": "code",
   "execution_count": null,
   "metadata": {},
   "outputs": [],
   "source": [
    "import pandas as pd\n",
    "# df = pd.read_csv('')\n"
   ]
  },
  {
   "attachments": {},
   "cell_type": "markdown",
   "metadata": {},
   "source": [
    "## **Cleaning + Formatting**"
   ]
  },
  {
   "cell_type": "code",
   "execution_count": null,
   "metadata": {},
   "outputs": [],
   "source": [
    "# convert date fields to datetime dtype (for better pandas based analysis)\n",
    "# eda.cast_as_datetime(df,'shp_dt');\n"
   ]
  },
  {
   "attachments": {},
   "cell_type": "markdown",
   "metadata": {},
   "source": [
    "## **Analysis**"
   ]
  },
  {
   "cell_type": "code",
   "execution_count": null,
   "metadata": {},
   "outputs": [],
   "source": [
    "# analysis here"
   ]
  },
  {
   "cell_type": "markdown",
   "metadata": {},
   "source": [
    "## **Output**"
   ]
  },
  {
   "cell_type": "code",
   "execution_count": null,
   "metadata": {},
   "outputs": [],
   "source": [
    "# Final output operations here"
   ]
  },
  {
   "cell_type": "code",
   "execution_count": null,
   "metadata": {},
   "outputs": [],
   "source": [
    "# stop"
   ]
  }
 ],
 "metadata": {
  "kernelspec": {
   "display_name": "Python (data_stack_toolbox)",
   "language": "python",
   "name": "data_stack_toolbox"
  },
  "language_info": {
   "codemirror_mode": {
    "name": "ipython",
    "version": 3
   },
   "file_extension": ".py",
   "mimetype": "text/x-python",
   "name": "python",
   "nbconvert_exporter": "python",
   "pygments_lexer": "ipython3",
   "version": "3.10.6"
  },
  "metadata": {
   "interpreter": {
    "hash": "bf2256466664d08ad5829690b78a52ff85021f5c7c81ebd85ac567841dd5c95f"
   }
  },
  "orig_nbformat": 2,
  "vscode": {
   "interpreter": {
    "hash": "d3e10ef16274dd72e574b8fa73b58450b957d8421a2901baded3cca26fcf5dda"
   }
  }
 },
 "nbformat": 4,
 "nbformat_minor": 2
}
